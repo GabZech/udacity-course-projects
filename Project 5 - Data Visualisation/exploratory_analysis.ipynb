{
 "cells": [
  {
   "cell_type": "markdown",
   "metadata": {},
   "source": [
    "# Explanatory Analysis of Lyft Bay Wheels Data"
   ]
  },
  {
   "cell_type": "markdown",
   "metadata": {},
   "source": [
    "Bay Wheels is a regional public bicycle sharing system in California's San Francisco Bay Area.\n",
    "\n",
    "It was established as Bay Area Bike Share in August 2013. In June 2017 the system was officially re-launched as Ford GoBike in a partnership with Ford Motor Company. After Motivate's acquisition by Lyft, the system was renamed to Bay Wheels in June 2019.\n",
    "\n",
    "In this project I will analyse Bay Wheels data from January 2020."
   ]
  },
  {
   "cell_type": "markdown",
   "metadata": {},
   "source": [
    "### Assessing and preparing the dataset"
   ]
  },
  {
   "cell_type": "code",
   "execution_count": 153,
   "metadata": {},
   "outputs": [],
   "source": [
    "# load packages\n",
    "import numpy as np\n",
    "import pandas as pd\n",
    "import matplotlib.pyplot as plt\n",
    "import seaborn as sb\n",
    "%matplotlib inline"
   ]
  },
  {
   "cell_type": "code",
   "execution_count": 154,
   "metadata": {},
   "outputs": [
    {
     "name": "stderr",
     "output_type": "stream",
     "text": [
      "C:\\Users\\zech011\\Anaconda3\\lib\\site-packages\\IPython\\core\\interactiveshell.py:3063: DtypeWarning: Columns (13) have mixed types.Specify dtype option on import or set low_memory=False.\n",
      "  interactivity=interactivity, compiler=compiler, result=result)\n"
     ]
    },
    {
     "data": {
      "text/html": [
       "<div>\n",
       "<style scoped>\n",
       "    .dataframe tbody tr th:only-of-type {\n",
       "        vertical-align: middle;\n",
       "    }\n",
       "\n",
       "    .dataframe tbody tr th {\n",
       "        vertical-align: top;\n",
       "    }\n",
       "\n",
       "    .dataframe thead th {\n",
       "        text-align: right;\n",
       "    }\n",
       "</style>\n",
       "<table border=\"1\" class=\"dataframe\">\n",
       "  <thead>\n",
       "    <tr style=\"text-align: right;\">\n",
       "      <th></th>\n",
       "      <th>duration_sec</th>\n",
       "      <th>start_time</th>\n",
       "      <th>end_time</th>\n",
       "      <th>start_station_id</th>\n",
       "      <th>start_station_name</th>\n",
       "      <th>start_station_latitude</th>\n",
       "      <th>start_station_longitude</th>\n",
       "      <th>end_station_id</th>\n",
       "      <th>end_station_name</th>\n",
       "      <th>end_station_latitude</th>\n",
       "      <th>end_station_longitude</th>\n",
       "      <th>bike_id</th>\n",
       "      <th>user_type</th>\n",
       "      <th>rental_access_method</th>\n",
       "    </tr>\n",
       "  </thead>\n",
       "  <tbody>\n",
       "    <tr>\n",
       "      <th>0</th>\n",
       "      <td>83118</td>\n",
       "      <td>2020-01-31 15:23:47.7330</td>\n",
       "      <td>2020-02-01 14:29:06.2630</td>\n",
       "      <td>400.0</td>\n",
       "      <td>Buchanan St at North Point St</td>\n",
       "      <td>37.804272</td>\n",
       "      <td>-122.433537</td>\n",
       "      <td>400.0</td>\n",
       "      <td>Buchanan St at North Point St</td>\n",
       "      <td>37.804272</td>\n",
       "      <td>-122.433537</td>\n",
       "      <td>13052</td>\n",
       "      <td>Customer</td>\n",
       "      <td>NaN</td>\n",
       "    </tr>\n",
       "    <tr>\n",
       "      <th>1</th>\n",
       "      <td>68239</td>\n",
       "      <td>2020-01-31 15:40:31.6160</td>\n",
       "      <td>2020-02-01 10:37:51.0000</td>\n",
       "      <td>99.0</td>\n",
       "      <td>Folsom St at 15th St</td>\n",
       "      <td>37.767037</td>\n",
       "      <td>-122.415443</td>\n",
       "      <td>99.0</td>\n",
       "      <td>Folsom St at 15th St</td>\n",
       "      <td>37.767037</td>\n",
       "      <td>-122.415443</td>\n",
       "      <td>12235</td>\n",
       "      <td>Subscriber</td>\n",
       "      <td>NaN</td>\n",
       "    </tr>\n",
       "    <tr>\n",
       "      <th>2</th>\n",
       "      <td>55407</td>\n",
       "      <td>2020-01-31 17:48:16.6350</td>\n",
       "      <td>2020-02-01 09:11:44.3170</td>\n",
       "      <td>197.0</td>\n",
       "      <td>El Embarcadero at Grand Ave</td>\n",
       "      <td>37.808848</td>\n",
       "      <td>-122.249680</td>\n",
       "      <td>197.0</td>\n",
       "      <td>El Embarcadero at Grand Ave</td>\n",
       "      <td>37.808848</td>\n",
       "      <td>-122.249680</td>\n",
       "      <td>12822</td>\n",
       "      <td>Customer</td>\n",
       "      <td>NaN</td>\n",
       "    </tr>\n",
       "    <tr>\n",
       "      <th>3</th>\n",
       "      <td>54929</td>\n",
       "      <td>2020-01-31 17:53:03.4130</td>\n",
       "      <td>2020-02-01 09:08:32.6340</td>\n",
       "      <td>197.0</td>\n",
       "      <td>El Embarcadero at Grand Ave</td>\n",
       "      <td>37.808848</td>\n",
       "      <td>-122.249680</td>\n",
       "      <td>197.0</td>\n",
       "      <td>El Embarcadero at Grand Ave</td>\n",
       "      <td>37.808848</td>\n",
       "      <td>-122.249680</td>\n",
       "      <td>11705</td>\n",
       "      <td>Customer</td>\n",
       "      <td>NaN</td>\n",
       "    </tr>\n",
       "    <tr>\n",
       "      <th>4</th>\n",
       "      <td>55700</td>\n",
       "      <td>2020-01-31 17:12:33.4600</td>\n",
       "      <td>2020-02-01 08:40:53.6460</td>\n",
       "      <td>12.0</td>\n",
       "      <td>Pier 1/2 at The Embarcadero</td>\n",
       "      <td>37.796389</td>\n",
       "      <td>-122.394586</td>\n",
       "      <td>371.0</td>\n",
       "      <td>Lombard St at Columbus Ave</td>\n",
       "      <td>37.802746</td>\n",
       "      <td>-122.413579</td>\n",
       "      <td>3673</td>\n",
       "      <td>Customer</td>\n",
       "      <td>NaN</td>\n",
       "    </tr>\n",
       "  </tbody>\n",
       "</table>\n",
       "</div>"
      ],
      "text/plain": [
       "   duration_sec                start_time                  end_time  \\\n",
       "0         83118  2020-01-31 15:23:47.7330  2020-02-01 14:29:06.2630   \n",
       "1         68239  2020-01-31 15:40:31.6160  2020-02-01 10:37:51.0000   \n",
       "2         55407  2020-01-31 17:48:16.6350  2020-02-01 09:11:44.3170   \n",
       "3         54929  2020-01-31 17:53:03.4130  2020-02-01 09:08:32.6340   \n",
       "4         55700  2020-01-31 17:12:33.4600  2020-02-01 08:40:53.6460   \n",
       "\n",
       "   start_station_id             start_station_name  start_station_latitude  \\\n",
       "0             400.0  Buchanan St at North Point St               37.804272   \n",
       "1              99.0           Folsom St at 15th St               37.767037   \n",
       "2             197.0    El Embarcadero at Grand Ave               37.808848   \n",
       "3             197.0    El Embarcadero at Grand Ave               37.808848   \n",
       "4              12.0    Pier 1/2 at The Embarcadero               37.796389   \n",
       "\n",
       "   start_station_longitude  end_station_id               end_station_name  \\\n",
       "0              -122.433537           400.0  Buchanan St at North Point St   \n",
       "1              -122.415443            99.0           Folsom St at 15th St   \n",
       "2              -122.249680           197.0    El Embarcadero at Grand Ave   \n",
       "3              -122.249680           197.0    El Embarcadero at Grand Ave   \n",
       "4              -122.394586           371.0     Lombard St at Columbus Ave   \n",
       "\n",
       "   end_station_latitude  end_station_longitude  bike_id   user_type  \\\n",
       "0             37.804272            -122.433537    13052    Customer   \n",
       "1             37.767037            -122.415443    12235  Subscriber   \n",
       "2             37.808848            -122.249680    12822    Customer   \n",
       "3             37.808848            -122.249680    11705    Customer   \n",
       "4             37.802746            -122.413579     3673    Customer   \n",
       "\n",
       "  rental_access_method  \n",
       "0                  NaN  \n",
       "1                  NaN  \n",
       "2                  NaN  \n",
       "3                  NaN  \n",
       "4                  NaN  "
      ]
     },
     "execution_count": 154,
     "metadata": {},
     "output_type": "execute_result"
    }
   ],
   "source": [
    "# import and view dataset\n",
    "data_frame = pd.read_csv('202001-baywheels-tripdata.csv')\n",
    "data_frame.head()"
   ]
  },
  {
   "cell_type": "code",
   "execution_count": 155,
   "metadata": {},
   "outputs": [],
   "source": [
    "df = data_frame.copy()"
   ]
  },
  {
   "cell_type": "code",
   "execution_count": 156,
   "metadata": {},
   "outputs": [
    {
     "name": "stdout",
     "output_type": "stream",
     "text": [
      "<class 'pandas.core.frame.DataFrame'>\n",
      "RangeIndex: 295854 entries, 0 to 295853\n",
      "Data columns (total 14 columns):\n",
      " #   Column                   Non-Null Count   Dtype  \n",
      "---  ------                   --------------   -----  \n",
      " 0   duration_sec             295854 non-null  int64  \n",
      " 1   start_time               295854 non-null  object \n",
      " 2   end_time                 295854 non-null  object \n",
      " 3   start_station_id         146286 non-null  float64\n",
      " 4   start_station_name       146866 non-null  object \n",
      " 5   start_station_latitude   295854 non-null  float64\n",
      " 6   start_station_longitude  295854 non-null  float64\n",
      " 7   end_station_id           145934 non-null  float64\n",
      " 8   end_station_name         146511 non-null  object \n",
      " 9   end_station_latitude     295854 non-null  float64\n",
      " 10  end_station_longitude    295854 non-null  float64\n",
      " 11  bike_id                  295854 non-null  int64  \n",
      " 12  user_type                295854 non-null  object \n",
      " 13  rental_access_method     185746 non-null  object \n",
      "dtypes: float64(6), int64(2), object(6)\n",
      "memory usage: 31.6+ MB\n"
     ]
    }
   ],
   "source": [
    "df.info()"
   ]
  },
  {
   "cell_type": "code",
   "execution_count": 157,
   "metadata": {},
   "outputs": [
    {
     "name": "stdout",
     "output_type": "stream",
     "text": [
      "<class 'pandas.core.frame.DataFrame'>\n",
      "RangeIndex: 295854 entries, 0 to 295853\n",
      "Data columns (total 14 columns):\n",
      " #   Column                   Non-Null Count   Dtype         \n",
      "---  ------                   --------------   -----         \n",
      " 0   duration_sec             295854 non-null  int64         \n",
      " 1   start_time               295854 non-null  datetime64[ns]\n",
      " 2   end_time                 295854 non-null  datetime64[ns]\n",
      " 3   start_station_id         146286 non-null  float64       \n",
      " 4   start_station_name       146866 non-null  object        \n",
      " 5   start_station_latitude   295854 non-null  float64       \n",
      " 6   start_station_longitude  295854 non-null  float64       \n",
      " 7   end_station_id           145934 non-null  float64       \n",
      " 8   end_station_name         146511 non-null  object        \n",
      " 9   end_station_latitude     295854 non-null  float64       \n",
      " 10  end_station_longitude    295854 non-null  float64       \n",
      " 11  bike_id                  295854 non-null  int64         \n",
      " 12  user_type                295854 non-null  object        \n",
      " 13  rental_access_method     185746 non-null  object        \n",
      "dtypes: datetime64[ns](2), float64(6), int64(2), object(4)\n",
      "memory usage: 31.6+ MB\n"
     ]
    }
   ],
   "source": [
    "# convert date strings to datetime format\n",
    "df.start_time = pd.to_datetime(df.start_time)\n",
    "df.end_time = pd.to_datetime(df.end_time)\n",
    "\n",
    "# test\n",
    "df.info()"
   ]
  },
  {
   "cell_type": "code",
   "execution_count": 158,
   "metadata": {},
   "outputs": [
    {
     "data": {
      "text/plain": [
       "(295854, 14)"
      ]
     },
     "execution_count": 158,
     "metadata": {},
     "output_type": "execute_result"
    }
   ],
   "source": [
    "df.shape"
   ]
  },
  {
   "cell_type": "code",
   "execution_count": 159,
   "metadata": {},
   "outputs": [
    {
     "data": {
      "text/plain": [
       "app        171751\n",
       "clipper     13995\n",
       "Name: rental_access_method, dtype: int64"
      ]
     },
     "execution_count": 159,
     "metadata": {},
     "output_type": "execute_result"
    }
   ],
   "source": [
    "df.rental_access_method.value_counts()"
   ]
  },
  {
   "cell_type": "code",
   "execution_count": 160,
   "metadata": {},
   "outputs": [
    {
     "data": {
      "text/html": [
       "<div>\n",
       "<style scoped>\n",
       "    .dataframe tbody tr th:only-of-type {\n",
       "        vertical-align: middle;\n",
       "    }\n",
       "\n",
       "    .dataframe tbody tr th {\n",
       "        vertical-align: top;\n",
       "    }\n",
       "\n",
       "    .dataframe thead th {\n",
       "        text-align: right;\n",
       "    }\n",
       "</style>\n",
       "<table border=\"1\" class=\"dataframe\">\n",
       "  <thead>\n",
       "    <tr style=\"text-align: right;\">\n",
       "      <th></th>\n",
       "      <th>duration_sec</th>\n",
       "      <th>start_time</th>\n",
       "      <th>end_time</th>\n",
       "      <th>start_station_id</th>\n",
       "      <th>start_station_name</th>\n",
       "      <th>start_station_latitude</th>\n",
       "      <th>start_station_longitude</th>\n",
       "      <th>end_station_id</th>\n",
       "      <th>end_station_name</th>\n",
       "      <th>end_station_latitude</th>\n",
       "      <th>end_station_longitude</th>\n",
       "      <th>bike_id</th>\n",
       "      <th>user_type</th>\n",
       "      <th>rental_access_method</th>\n",
       "      <th>start_day</th>\n",
       "      <th>end_day</th>\n",
       "      <th>start_hour</th>\n",
       "      <th>end_hour</th>\n",
       "      <th>dayofweek</th>\n",
       "    </tr>\n",
       "  </thead>\n",
       "  <tbody>\n",
       "    <tr>\n",
       "      <th>0</th>\n",
       "      <td>83118</td>\n",
       "      <td>2020-01-31 15:23:47.733</td>\n",
       "      <td>2020-02-01 14:29:06.263</td>\n",
       "      <td>400.0</td>\n",
       "      <td>Buchanan St at North Point St</td>\n",
       "      <td>37.804272</td>\n",
       "      <td>-122.433537</td>\n",
       "      <td>400.0</td>\n",
       "      <td>Buchanan St at North Point St</td>\n",
       "      <td>37.804272</td>\n",
       "      <td>-122.433537</td>\n",
       "      <td>13052</td>\n",
       "      <td>Customer</td>\n",
       "      <td>NaN</td>\n",
       "      <td>31</td>\n",
       "      <td>1</td>\n",
       "      <td>15</td>\n",
       "      <td>14</td>\n",
       "      <td>4</td>\n",
       "    </tr>\n",
       "    <tr>\n",
       "      <th>1</th>\n",
       "      <td>68239</td>\n",
       "      <td>2020-01-31 15:40:31.616</td>\n",
       "      <td>2020-02-01 10:37:51.000</td>\n",
       "      <td>99.0</td>\n",
       "      <td>Folsom St at 15th St</td>\n",
       "      <td>37.767037</td>\n",
       "      <td>-122.415443</td>\n",
       "      <td>99.0</td>\n",
       "      <td>Folsom St at 15th St</td>\n",
       "      <td>37.767037</td>\n",
       "      <td>-122.415443</td>\n",
       "      <td>12235</td>\n",
       "      <td>Subscriber</td>\n",
       "      <td>NaN</td>\n",
       "      <td>31</td>\n",
       "      <td>1</td>\n",
       "      <td>15</td>\n",
       "      <td>10</td>\n",
       "      <td>4</td>\n",
       "    </tr>\n",
       "    <tr>\n",
       "      <th>2</th>\n",
       "      <td>55407</td>\n",
       "      <td>2020-01-31 17:48:16.635</td>\n",
       "      <td>2020-02-01 09:11:44.317</td>\n",
       "      <td>197.0</td>\n",
       "      <td>El Embarcadero at Grand Ave</td>\n",
       "      <td>37.808848</td>\n",
       "      <td>-122.249680</td>\n",
       "      <td>197.0</td>\n",
       "      <td>El Embarcadero at Grand Ave</td>\n",
       "      <td>37.808848</td>\n",
       "      <td>-122.249680</td>\n",
       "      <td>12822</td>\n",
       "      <td>Customer</td>\n",
       "      <td>NaN</td>\n",
       "      <td>31</td>\n",
       "      <td>1</td>\n",
       "      <td>17</td>\n",
       "      <td>9</td>\n",
       "      <td>4</td>\n",
       "    </tr>\n",
       "    <tr>\n",
       "      <th>3</th>\n",
       "      <td>54929</td>\n",
       "      <td>2020-01-31 17:53:03.413</td>\n",
       "      <td>2020-02-01 09:08:32.634</td>\n",
       "      <td>197.0</td>\n",
       "      <td>El Embarcadero at Grand Ave</td>\n",
       "      <td>37.808848</td>\n",
       "      <td>-122.249680</td>\n",
       "      <td>197.0</td>\n",
       "      <td>El Embarcadero at Grand Ave</td>\n",
       "      <td>37.808848</td>\n",
       "      <td>-122.249680</td>\n",
       "      <td>11705</td>\n",
       "      <td>Customer</td>\n",
       "      <td>NaN</td>\n",
       "      <td>31</td>\n",
       "      <td>1</td>\n",
       "      <td>17</td>\n",
       "      <td>9</td>\n",
       "      <td>4</td>\n",
       "    </tr>\n",
       "    <tr>\n",
       "      <th>4</th>\n",
       "      <td>55700</td>\n",
       "      <td>2020-01-31 17:12:33.460</td>\n",
       "      <td>2020-02-01 08:40:53.646</td>\n",
       "      <td>12.0</td>\n",
       "      <td>Pier 1/2 at The Embarcadero</td>\n",
       "      <td>37.796389</td>\n",
       "      <td>-122.394586</td>\n",
       "      <td>371.0</td>\n",
       "      <td>Lombard St at Columbus Ave</td>\n",
       "      <td>37.802746</td>\n",
       "      <td>-122.413579</td>\n",
       "      <td>3673</td>\n",
       "      <td>Customer</td>\n",
       "      <td>NaN</td>\n",
       "      <td>31</td>\n",
       "      <td>1</td>\n",
       "      <td>17</td>\n",
       "      <td>8</td>\n",
       "      <td>4</td>\n",
       "    </tr>\n",
       "  </tbody>\n",
       "</table>\n",
       "</div>"
      ],
      "text/plain": [
       "   duration_sec              start_time                end_time  \\\n",
       "0         83118 2020-01-31 15:23:47.733 2020-02-01 14:29:06.263   \n",
       "1         68239 2020-01-31 15:40:31.616 2020-02-01 10:37:51.000   \n",
       "2         55407 2020-01-31 17:48:16.635 2020-02-01 09:11:44.317   \n",
       "3         54929 2020-01-31 17:53:03.413 2020-02-01 09:08:32.634   \n",
       "4         55700 2020-01-31 17:12:33.460 2020-02-01 08:40:53.646   \n",
       "\n",
       "   start_station_id             start_station_name  start_station_latitude  \\\n",
       "0             400.0  Buchanan St at North Point St               37.804272   \n",
       "1              99.0           Folsom St at 15th St               37.767037   \n",
       "2             197.0    El Embarcadero at Grand Ave               37.808848   \n",
       "3             197.0    El Embarcadero at Grand Ave               37.808848   \n",
       "4              12.0    Pier 1/2 at The Embarcadero               37.796389   \n",
       "\n",
       "   start_station_longitude  end_station_id               end_station_name  \\\n",
       "0              -122.433537           400.0  Buchanan St at North Point St   \n",
       "1              -122.415443            99.0           Folsom St at 15th St   \n",
       "2              -122.249680           197.0    El Embarcadero at Grand Ave   \n",
       "3              -122.249680           197.0    El Embarcadero at Grand Ave   \n",
       "4              -122.394586           371.0     Lombard St at Columbus Ave   \n",
       "\n",
       "   end_station_latitude  end_station_longitude  bike_id   user_type  \\\n",
       "0             37.804272            -122.433537    13052    Customer   \n",
       "1             37.767037            -122.415443    12235  Subscriber   \n",
       "2             37.808848            -122.249680    12822    Customer   \n",
       "3             37.808848            -122.249680    11705    Customer   \n",
       "4             37.802746            -122.413579     3673    Customer   \n",
       "\n",
       "  rental_access_method  start_day  end_day  start_hour  end_hour  dayofweek  \n",
       "0                  NaN         31        1          15        14          4  \n",
       "1                  NaN         31        1          15        10          4  \n",
       "2                  NaN         31        1          17         9          4  \n",
       "3                  NaN         31        1          17         9          4  \n",
       "4                  NaN         31        1          17         8          4  "
      ]
     },
     "execution_count": 160,
     "metadata": {},
     "output_type": "execute_result"
    }
   ],
   "source": [
    "# create columns for day and time\n",
    "df['start_day'] = pd.DatetimeIndex(df.start_time).day\n",
    "df['end_day'] = pd.DatetimeIndex(df.end_time).day\n",
    "\n",
    "df['start_hour'] = df.start_time.dt.hour\n",
    "df['end_hour'] = df.end_time.dt.hour\n",
    "\n",
    "# create columns for day of the week\n",
    "df['dayofweek'] = df.start_time.dt.dayofweek\n",
    "\n",
    "# test\n",
    "df.head()"
   ]
  },
  {
   "cell_type": "code",
   "execution_count": 161,
   "metadata": {},
   "outputs": [],
   "source": [
    "# create columns for duration in minutes and hours\n",
    "df['duration_min'] = df.duration_sec / 60\n",
    "df['duration_hour'] = df.duration_min / 60"
   ]
  },
  {
   "cell_type": "code",
   "execution_count": 162,
   "metadata": {},
   "outputs": [
    {
     "data": {
      "text/plain": [
       "False    292284\n",
       "True       3570\n",
       "Name: same_drop_station, dtype: int64"
      ]
     },
     "execution_count": 162,
     "metadata": {},
     "output_type": "execute_result"
    }
   ],
   "source": [
    "# create column that says whether the bike \n",
    "# was dropped at the same location it was picked up from\n",
    "\n",
    "# create column\n",
    "df['same_drop_station'] = 1\n",
    "\n",
    "# set True if same location and False if different\n",
    "df.loc[(df.start_station_name == df.end_station_name), 'same_drop_station'] = True\n",
    "df.loc[(df.start_station_name != df.end_station_name), 'same_drop_station'] = False\n",
    "\n",
    "# test\n",
    "df.same_drop_station.value_counts()"
   ]
  },
  {
   "cell_type": "code",
   "execution_count": 163,
   "metadata": {},
   "outputs": [
    {
     "data": {
      "text/plain": [
       "True     241936\n",
       "False     53918\n",
       "Name: weekday, dtype: int64"
      ]
     },
     "execution_count": 163,
     "metadata": {},
     "output_type": "execute_result"
    }
   ],
   "source": [
    "# create column that defines if the pickup day was a weekday or not\n",
    "\n",
    "# list of weekend days in January 2020\n",
    "weekends = [4,5,11,12,18,19,25,26]\n",
    "\n",
    "# create column\n",
    "df['weekday'] = 1\n",
    "\n",
    "# set True if not in weekends list and False if it is\n",
    "df.loc[(df.start_day.isin(weekends)), 'weekday'] = False\n",
    "df.loc[~(df.start_day.isin(weekends)), 'weekday'] = True\n",
    "\n",
    "df.weekday.value_counts()"
   ]
  },
  {
   "cell_type": "code",
   "execution_count": 164,
   "metadata": {},
   "outputs": [
    {
     "name": "stdout",
     "output_type": "stream",
     "text": [
      "Friday       56258\n",
      "Wednesday    52737\n",
      "Thursday     51284\n",
      "Tuesday      41967\n",
      "Monday       39690\n",
      "Saturday     28496\n",
      "Sunday       25422\n",
      "Name: dayofweek, dtype: int64\n"
     ]
    }
   ],
   "source": [
    "# get names for weekdays with Monday=0, Sunday=6.\n",
    "mapper = {0:'Monday', 1:'Tuesday', 2:'Wednesday', 3:'Thursday', 4:'Friday', 5:'Saturday', 6:'Sunday'}\n",
    "df['dayofweek'] = df['dayofweek'].map(mapper)\n",
    "\n",
    "# order them\n",
    "week_order = ['Monday','Tuesday','Wednesday','Thursday','Friday','Saturday','Sunday']\n",
    "ordered_cat = pd.api.types.CategoricalDtype(ordered= True, categories = week_order)\n",
    "df['dayofweek'] = df['dayofweek'].astype(ordered_cat)\n",
    "\n",
    "#test\n",
    "print(df['dayofweek'].value_counts())"
   ]
  },
  {
   "cell_type": "code",
   "execution_count": 165,
   "metadata": {},
   "outputs": [
    {
     "data": {
      "text/html": [
       "<div>\n",
       "<style scoped>\n",
       "    .dataframe tbody tr th:only-of-type {\n",
       "        vertical-align: middle;\n",
       "    }\n",
       "\n",
       "    .dataframe tbody tr th {\n",
       "        vertical-align: top;\n",
       "    }\n",
       "\n",
       "    .dataframe thead th {\n",
       "        text-align: right;\n",
       "    }\n",
       "</style>\n",
       "<table border=\"1\" class=\"dataframe\">\n",
       "  <thead>\n",
       "    <tr style=\"text-align: right;\">\n",
       "      <th></th>\n",
       "      <th>duration_sec</th>\n",
       "      <th>start_station_id</th>\n",
       "      <th>start_station_latitude</th>\n",
       "      <th>start_station_longitude</th>\n",
       "      <th>end_station_id</th>\n",
       "      <th>end_station_latitude</th>\n",
       "      <th>end_station_longitude</th>\n",
       "      <th>bike_id</th>\n",
       "      <th>start_day</th>\n",
       "      <th>end_day</th>\n",
       "      <th>start_hour</th>\n",
       "      <th>end_hour</th>\n",
       "      <th>duration_min</th>\n",
       "      <th>duration_hour</th>\n",
       "    </tr>\n",
       "  </thead>\n",
       "  <tbody>\n",
       "    <tr>\n",
       "      <th>count</th>\n",
       "      <td>295854.000000</td>\n",
       "      <td>146286.000000</td>\n",
       "      <td>295854.000000</td>\n",
       "      <td>295854.000000</td>\n",
       "      <td>145934.000000</td>\n",
       "      <td>295854.000000</td>\n",
       "      <td>295854.000000</td>\n",
       "      <td>295854.00000</td>\n",
       "      <td>295854.000000</td>\n",
       "      <td>295854.000000</td>\n",
       "      <td>295854.000000</td>\n",
       "      <td>295854.000000</td>\n",
       "      <td>295854.000000</td>\n",
       "      <td>295854.000000</td>\n",
       "    </tr>\n",
       "    <tr>\n",
       "      <th>mean</th>\n",
       "      <td>780.473193</td>\n",
       "      <td>168.900879</td>\n",
       "      <td>37.751277</td>\n",
       "      <td>-122.357866</td>\n",
       "      <td>161.061788</td>\n",
       "      <td>37.751261</td>\n",
       "      <td>-122.356994</td>\n",
       "      <td>321533.84539</td>\n",
       "      <td>18.722150</td>\n",
       "      <td>18.717479</td>\n",
       "      <td>13.568017</td>\n",
       "      <td>13.730228</td>\n",
       "      <td>13.007887</td>\n",
       "      <td>0.216798</td>\n",
       "    </tr>\n",
       "    <tr>\n",
       "      <th>std</th>\n",
       "      <td>2037.786317</td>\n",
       "      <td>141.956388</td>\n",
       "      <td>0.228337</td>\n",
       "      <td>0.650796</td>\n",
       "      <td>140.766154</td>\n",
       "      <td>0.238642</td>\n",
       "      <td>0.688512</td>\n",
       "      <td>307015.31534</td>\n",
       "      <td>8.738716</td>\n",
       "      <td>8.740710</td>\n",
       "      <td>4.751850</td>\n",
       "      <td>4.775549</td>\n",
       "      <td>33.963105</td>\n",
       "      <td>0.566052</td>\n",
       "    </tr>\n",
       "    <tr>\n",
       "      <th>min</th>\n",
       "      <td>60.000000</td>\n",
       "      <td>3.000000</td>\n",
       "      <td>0.000000</td>\n",
       "      <td>-122.513871</td>\n",
       "      <td>3.000000</td>\n",
       "      <td>0.000000</td>\n",
       "      <td>-122.513847</td>\n",
       "      <td>12.00000</td>\n",
       "      <td>1.000000</td>\n",
       "      <td>1.000000</td>\n",
       "      <td>0.000000</td>\n",
       "      <td>0.000000</td>\n",
       "      <td>1.000000</td>\n",
       "      <td>0.016667</td>\n",
       "    </tr>\n",
       "    <tr>\n",
       "      <th>25%</th>\n",
       "      <td>369.000000</td>\n",
       "      <td>53.000000</td>\n",
       "      <td>37.766214</td>\n",
       "      <td>-122.419481</td>\n",
       "      <td>43.000000</td>\n",
       "      <td>37.766376</td>\n",
       "      <td>-122.418306</td>\n",
       "      <td>11328.00000</td>\n",
       "      <td>11.000000</td>\n",
       "      <td>11.000000</td>\n",
       "      <td>9.000000</td>\n",
       "      <td>9.000000</td>\n",
       "      <td>6.150000</td>\n",
       "      <td>0.102500</td>\n",
       "    </tr>\n",
       "    <tr>\n",
       "      <th>50%</th>\n",
       "      <td>588.000000</td>\n",
       "      <td>120.000000</td>\n",
       "      <td>37.777158</td>\n",
       "      <td>-122.403234</td>\n",
       "      <td>113.000000</td>\n",
       "      <td>37.777370</td>\n",
       "      <td>-122.402717</td>\n",
       "      <td>279974.00000</td>\n",
       "      <td>20.000000</td>\n",
       "      <td>20.000000</td>\n",
       "      <td>14.000000</td>\n",
       "      <td>14.000000</td>\n",
       "      <td>9.800000</td>\n",
       "      <td>0.163333</td>\n",
       "    </tr>\n",
       "    <tr>\n",
       "      <th>75%</th>\n",
       "      <td>912.000000</td>\n",
       "      <td>263.000000</td>\n",
       "      <td>37.790102</td>\n",
       "      <td>-122.392450</td>\n",
       "      <td>250.000000</td>\n",
       "      <td>37.790492</td>\n",
       "      <td>-122.392546</td>\n",
       "      <td>545607.00000</td>\n",
       "      <td>27.000000</td>\n",
       "      <td>27.000000</td>\n",
       "      <td>17.000000</td>\n",
       "      <td>18.000000</td>\n",
       "      <td>15.200000</td>\n",
       "      <td>0.253333</td>\n",
       "    </tr>\n",
       "    <tr>\n",
       "      <th>max</th>\n",
       "      <td>811077.000000</td>\n",
       "      <td>506.000000</td>\n",
       "      <td>37.880222</td>\n",
       "      <td>0.000000</td>\n",
       "      <td>506.000000</td>\n",
       "      <td>37.927622</td>\n",
       "      <td>0.000000</td>\n",
       "      <td>999952.00000</td>\n",
       "      <td>31.000000</td>\n",
       "      <td>31.000000</td>\n",
       "      <td>23.000000</td>\n",
       "      <td>23.000000</td>\n",
       "      <td>13517.950000</td>\n",
       "      <td>225.299167</td>\n",
       "    </tr>\n",
       "  </tbody>\n",
       "</table>\n",
       "</div>"
      ],
      "text/plain": [
       "        duration_sec  start_station_id  start_station_latitude  \\\n",
       "count  295854.000000     146286.000000           295854.000000   \n",
       "mean      780.473193        168.900879               37.751277   \n",
       "std      2037.786317        141.956388                0.228337   \n",
       "min        60.000000          3.000000                0.000000   \n",
       "25%       369.000000         53.000000               37.766214   \n",
       "50%       588.000000        120.000000               37.777158   \n",
       "75%       912.000000        263.000000               37.790102   \n",
       "max    811077.000000        506.000000               37.880222   \n",
       "\n",
       "       start_station_longitude  end_station_id  end_station_latitude  \\\n",
       "count            295854.000000   145934.000000         295854.000000   \n",
       "mean               -122.357866      161.061788             37.751261   \n",
       "std                   0.650796      140.766154              0.238642   \n",
       "min                -122.513871        3.000000              0.000000   \n",
       "25%                -122.419481       43.000000             37.766376   \n",
       "50%                -122.403234      113.000000             37.777370   \n",
       "75%                -122.392450      250.000000             37.790492   \n",
       "max                   0.000000      506.000000             37.927622   \n",
       "\n",
       "       end_station_longitude       bike_id      start_day        end_day  \\\n",
       "count          295854.000000  295854.00000  295854.000000  295854.000000   \n",
       "mean             -122.356994  321533.84539      18.722150      18.717479   \n",
       "std                 0.688512  307015.31534       8.738716       8.740710   \n",
       "min              -122.513847      12.00000       1.000000       1.000000   \n",
       "25%              -122.418306   11328.00000      11.000000      11.000000   \n",
       "50%              -122.402717  279974.00000      20.000000      20.000000   \n",
       "75%              -122.392546  545607.00000      27.000000      27.000000   \n",
       "max                 0.000000  999952.00000      31.000000      31.000000   \n",
       "\n",
       "          start_hour       end_hour   duration_min  duration_hour  \n",
       "count  295854.000000  295854.000000  295854.000000  295854.000000  \n",
       "mean       13.568017      13.730228      13.007887       0.216798  \n",
       "std         4.751850       4.775549      33.963105       0.566052  \n",
       "min         0.000000       0.000000       1.000000       0.016667  \n",
       "25%         9.000000       9.000000       6.150000       0.102500  \n",
       "50%        14.000000      14.000000       9.800000       0.163333  \n",
       "75%        17.000000      18.000000      15.200000       0.253333  \n",
       "max        23.000000      23.000000   13517.950000     225.299167  "
      ]
     },
     "execution_count": 165,
     "metadata": {},
     "output_type": "execute_result"
    }
   ],
   "source": [
    "df.describe()"
   ]
  },
  {
   "cell_type": "code",
   "execution_count": 166,
   "metadata": {},
   "outputs": [],
   "source": [
    "df.to_csv('202001-baywheels-tripdata_cleaned.csv', index=False)"
   ]
  },
  {
   "cell_type": "markdown",
   "metadata": {},
   "source": [
    "## Exploratory analysis"
   ]
  },
  {
   "cell_type": "markdown",
   "metadata": {},
   "source": [
    "Variables to use:\n",
    "\n",
    "Numeric variables\n",
    "- duration_sec\n",
    "- duration_min\n",
    "- start_time\n",
    "- start_day\n",
    "- start_hour\n",
    "\n",
    "\n",
    "Categorical variables\n",
    "- rental_access_method (app or clipper)\n",
    "- user_type (Customer or Subscriber)\n",
    "- same_drop_station (True or False)\n",
    "- weekday\n",
    "- dayofweek"
   ]
  },
  {
   "cell_type": "markdown",
   "metadata": {},
   "source": [
    "### Univariate analyses"
   ]
  },
  {
   "cell_type": "markdown",
   "metadata": {},
   "source": [
    "First, let's see the distribution of ride durations"
   ]
  },
  {
   "cell_type": "code",
   "execution_count": 167,
   "metadata": {},
   "outputs": [
    {
     "name": "stdout",
     "output_type": "stream",
     "text": [
      "mode is 394\n"
     ]
    },
    {
     "data": {
      "image/png": "[encoded data removed]",
      "text/plain": [
       "<Figure size 1440x1080 with 4 Axes>"
      ]
     },
     "metadata": {
      "needs_background": "light"
     },
     "output_type": "display_data"
    }
   ],
   "source": [
    "# plot histogram of duration of rides\n",
    "\n",
    "plt.figure(figsize = [20,15])\n",
    "\n",
    "# histogram without adjusting for outliers\n",
    "plt.subplot(2,3,1)\n",
    "\n",
    "plt.hist(data=df, x='duration_sec');\n",
    "\n",
    "# histogram leaving outliers out\n",
    "plt.subplot(2,3,2)\n",
    "\n",
    "bin_edges = np.arange(0, 3000+100, 50)\n",
    "\n",
    "plt.hist(data=df, x='duration_sec', bins=bin_edges);\n",
    "\n",
    "# histogram focusing on the mode\n",
    "plt.subplot(2,3,3)\n",
    "\n",
    "bin_edges_2 = np.arange(0, 1000, 10)\n",
    "\n",
    "plt.hist(data=df, x='duration_sec', bins=bin_edges_2);\n",
    "\n",
    "# boxplot\n",
    "plt.subplot(2,3,4)\n",
    "sb.boxplot(x=df.duration_sec)\n",
    "plt.xlim(0,2000)\n",
    "\n",
    "\n",
    "# print the mode of the series\n",
    "print('mode is ' + str(df.duration_sec.mode()[0]))"
   ]
  },
  {
   "cell_type": "markdown",
   "metadata": {},
   "source": [
    "The distribution is rightly skewed, so let's create a log version of it"
   ]
  },
  {
   "cell_type": "code",
   "execution_count": 168,
   "metadata": {},
   "outputs": [
    {
     "data": {
      "text/plain": [
       "Text(0.5, 0, 'log(values)')"
      ]
     },
     "execution_count": 168,
     "metadata": {},
     "output_type": "execute_result"
    },
    {
     "data": {
      "image/png": "[encoded data removed]",
      "text/plain": [
       "<Figure size 720x360 with 2 Axes>"
      ]
     },
     "metadata": {
      "needs_background": "light"
     },
     "output_type": "display_data"
    }
   ],
   "source": [
    "# create histogram of duration_sec as log\n",
    "\n",
    "plt.figure(figsize = [10, 5])\n",
    "\n",
    "# left histogram: data plotted in natural units\n",
    "plt.subplot(1, 2, 1)\n",
    "bin_edges = np.arange(0, 3000+100, 100)\n",
    "plt.hist(df.duration_sec, bins = bin_edges)\n",
    "plt.xlabel('values')\n",
    "\n",
    "# right histogram: data plotted after direct log transformation\n",
    "plt.subplot(1, 2, 2)\n",
    "log_duration = np.log10(df.duration_sec) # direct data transform\n",
    "log_bin_edges = np.arange(log_duration.min(), 4+0.1, 0.1)\n",
    "plt.hist(log_duration, bins = log_bin_edges)\n",
    "plt.xlabel('log(values)')\n"
   ]
  },
  {
   "cell_type": "markdown",
   "metadata": {},
   "source": [
    "Finding: The distribution is clearly skewed to the right with a long tail. Most trips fall around the 400 seconds."
   ]
  },
  {
   "cell_type": "markdown",
   "metadata": {},
   "source": [
    "Now let's see how the distribution of rides looks like according to day of the month"
   ]
  },
  {
   "cell_type": "code",
   "execution_count": 170,
   "metadata": {},
   "outputs": [
    {
     "data": {
      "image/png": "[encoded data removed]",
      "text/plain": [
       "<Figure size 1440x360 with 1 Axes>"
      ]
     },
     "metadata": {
      "needs_background": "light"
     },
     "output_type": "display_data"
    }
   ],
   "source": [
    "# plot bar chart of usage count according to day of the month\n",
    "plt.figure(figsize = [20, 5])\n",
    "\n",
    "base_color = sb.color_palette()[0]\n",
    "sb.countplot(data=df, x='start_day', color=base_color);"
   ]
  },
  {
   "cell_type": "markdown",
   "metadata": {},
   "source": [
    "Bike usage seems to be increasing acording to day of the month - maybe because of vacations (this is data from January)."
   ]
  },
  {
   "cell_type": "markdown",
   "metadata": {},
   "source": [
    "What about hour of the day?"
   ]
  },
  {
   "cell_type": "code",
   "execution_count": 171,
   "metadata": {},
   "outputs": [
    {
     "data": {
      "image/png": "[encoded data removed]",
      "text/plain": [
       "<Figure size 720x720 with 2 Axes>"
      ]
     },
     "metadata": {
      "needs_background": "light"
     },
     "output_type": "display_data"
    }
   ],
   "source": [
    "# plot bar charts of usage count according to hour of the day\n",
    "plt.figure(figsize = [10, 10])\n",
    "\n",
    "# get dataframe for weekdays only and plot it\n",
    "df_weekdays = df[df.weekday == True]\n",
    "\n",
    "plt.subplot(2,1,1)\n",
    "base_color = sb.color_palette()[0]\n",
    "sb.countplot(data=df_weekdays, x='start_hour', color=base_color);\n",
    "\n",
    "# get dataframe for weekends only and plot it\n",
    "df_weekends = df[df.weekday == False]\n",
    "\n",
    "plt.subplot(2,1,2)\n",
    "base_color = sb.color_palette()[0]\n",
    "sb.countplot(data=df_weekends, x='start_hour', color=base_color);"
   ]
  },
  {
   "cell_type": "markdown",
   "metadata": {},
   "source": [
    "During weekdays: We can see here a bimodal distribution with peaks at 8h and 17h since that is the time people usually go to and leave work.\n",
    "\n",
    "During weekends: we don't see this bimodal distribution since people are not working so we can see more of a normal distribution with the peak being after lunch"
   ]
  },
  {
   "cell_type": "markdown",
   "metadata": {},
   "source": [
    "Next, let's check the distribution according to the categorical variables"
   ]
  },
  {
   "cell_type": "code",
   "execution_count": 172,
   "metadata": {},
   "outputs": [
    {
     "data": {
      "image/png": "[encoded data removed]",
      "text/plain": [
       "<Figure size 720x720 with 4 Axes>"
      ]
     },
     "metadata": {
      "needs_background": "light"
     },
     "output_type": "display_data"
    }
   ],
   "source": [
    "# plot the categorical variables\n",
    "\n",
    "plt.figure(figsize = [10,10])\n",
    "\n",
    "# plot for rental_access_method\n",
    "plt.subplot(2,2,1)\n",
    "\n",
    "base_color = sb.color_palette()[0]\n",
    "sb.countplot(data=df, x='rental_access_method', color=base_color);\n",
    "\n",
    "# plot for user_type\n",
    "plt.subplot(2,2,2)\n",
    "\n",
    "base_color = sb.color_palette()[0]\n",
    "sb.countplot(data=df, x='user_type', color=base_color);\n",
    "\n",
    "# plot for same_drop_station\n",
    "plt.subplot(2,2,3)\n",
    "\n",
    "base_color = sb.color_palette()[0]\n",
    "sb.countplot(data=df, x='same_drop_station', color=base_color);\n",
    "\n",
    "# plot for weekday\n",
    "plt.subplot(2,2,4)\n",
    "\n",
    "base_color = sb.color_palette()[0]\n",
    "sb.countplot(data=df, x='weekday', color=base_color);"
   ]
  },
  {
   "cell_type": "markdown",
   "metadata": {},
   "source": [
    "App, Subscriber, different drop station ane weekdays are the most common attributes in their categories"
   ]
  },
  {
   "cell_type": "markdown",
   "metadata": {},
   "source": [
    "### Bivariate analyses"
   ]
  },
  {
   "cell_type": "markdown",
   "metadata": {},
   "source": [
    "Let's see that same graph of ride count per day of the month but now account for weekends and weekdays"
   ]
  },
  {
   "cell_type": "code",
   "execution_count": 173,
   "metadata": {},
   "outputs": [
    {
     "data": {
      "image/png": "[encoded data removed]",
      "text/plain": [
       "<Figure size 720x360 with 1 Axes>"
      ]
     },
     "metadata": {
      "needs_background": "light"
     },
     "output_type": "display_data"
    }
   ],
   "source": [
    "# plot usage count according to day of the month accounting for weekdays/weekend\n",
    "plt.figure(figsize = [10, 5])\n",
    "\n",
    "base_color = sb.color_palette()[0]\n",
    "sb.countplot(data=df, x='start_day', color=base_color, hue='weekday', palette='dark');"
   ]
  },
  {
   "cell_type": "markdown",
   "metadata": {},
   "source": [
    "Diferentiating between weekends and weekdays clearly shows that bike usage tends to fall on weekends"
   ]
  },
  {
   "cell_type": "markdown",
   "metadata": {},
   "source": [
    "Let's see how the distribution of ride durations within those days looks like"
   ]
  },
  {
   "cell_type": "code",
   "execution_count": 174,
   "metadata": {},
   "outputs": [
    {
     "data": {
      "text/plain": [
       "<matplotlib.axes._subplots.AxesSubplot at 0x1dd80464b08>"
      ]
     },
     "execution_count": 174,
     "metadata": {},
     "output_type": "execute_result"
    },
    {
     "data": {
      "image/png": "[encoded data removed]",
      "text/plain": [
       "<Figure size 720x360 with 1 Axes>"
      ]
     },
     "metadata": {
      "needs_background": "light"
     },
     "output_type": "display_data"
    }
   ],
   "source": [
    "# plot log of duration according to day of the month\n",
    "plt.figure(figsize = [10, 5])\n",
    "\n",
    "sb.violinplot(data = df, x = 'start_day', y = log_duration, color = base_color)\n",
    "#plt.ylim(0,50);"
   ]
  },
  {
   "cell_type": "markdown",
   "metadata": {},
   "source": [
    "They all seem to be fairly similar"
   ]
  },
  {
   "cell_type": "markdown",
   "metadata": {},
   "source": [
    "Let's separate between weekday and weekends only now"
   ]
  },
  {
   "cell_type": "code",
   "execution_count": 175,
   "metadata": {},
   "outputs": [
    {
     "data": {
      "text/plain": [
       "(1.7781512503836436, 4)"
      ]
     },
     "execution_count": 175,
     "metadata": {},
     "output_type": "execute_result"
    },
    {
     "data": {
      "image/png": "[encoded data removed]",
      "text/plain": [
       "<Figure size 720x360 with 2 Axes>"
      ]
     },
     "metadata": {
      "needs_background": "light"
     },
     "output_type": "display_data"
    }
   ],
   "source": [
    "# plot duration against weekday/weekend\n",
    "\n",
    "plt.figure(figsize = [10, 5])\n",
    "base_color = sb.color_palette()[0]\n",
    "\n",
    "# left plot: violin plot\n",
    "plt.subplot(1, 2, 1)\n",
    "ax1 = sb.violinplot(data = df, x = 'weekday', y = log_duration, color = base_color)\n",
    "plt.ylim(log_duration.min(),4)\n",
    "\n",
    "# right plot: box plot\n",
    "plt.subplot(1, 2, 2)\n",
    "sb.boxplot(data = df, x = 'weekday', y = log_duration, color = base_color)\n",
    "plt.ylim(log_duration.min(),4)"
   ]
  },
  {
   "cell_type": "markdown",
   "metadata": {},
   "source": [
    "it seems like ride durations are longer during weekends. Let's try to confirm this"
   ]
  },
  {
   "cell_type": "code",
   "execution_count": 209,
   "metadata": {},
   "outputs": [
    {
     "data": {
      "text/html": [
       "<div>\n",
       "<style scoped>\n",
       "    .dataframe tbody tr th:only-of-type {\n",
       "        vertical-align: middle;\n",
       "    }\n",
       "\n",
       "    .dataframe tbody tr th {\n",
       "        vertical-align: top;\n",
       "    }\n",
       "\n",
       "    .dataframe thead th {\n",
       "        text-align: right;\n",
       "    }\n",
       "</style>\n",
       "<table border=\"1\" class=\"dataframe\">\n",
       "  <thead>\n",
       "    <tr style=\"text-align: right;\">\n",
       "      <th></th>\n",
       "      <th>weekday</th>\n",
       "      <th>avg_duration</th>\n",
       "    </tr>\n",
       "  </thead>\n",
       "  <tbody>\n",
       "    <tr>\n",
       "      <th>0</th>\n",
       "      <td>False</td>\n",
       "      <td>927.439352</td>\n",
       "    </tr>\n",
       "    <tr>\n",
       "      <th>1</th>\n",
       "      <td>True</td>\n",
       "      <td>747.720228</td>\n",
       "    </tr>\n",
       "  </tbody>\n",
       "</table>\n",
       "</div>"
      ],
      "text/plain": [
       "   weekday  avg_duration\n",
       "0    False    927.439352\n",
       "1     True    747.720228"
      ]
     },
     "execution_count": 209,
     "metadata": {},
     "output_type": "execute_result"
    }
   ],
   "source": [
    "# extract averages\n",
    "df_weekday_means = df.groupby('weekday').mean()\n",
    "df_weekday_means = df_weekday_means.duration_sec.reset_index(name='avg_duration')\n",
    "df_weekday_means"
   ]
  },
  {
   "cell_type": "code",
   "execution_count": 177,
   "metadata": {},
   "outputs": [
    {
     "data": {
      "text/plain": [
       "<matplotlib.axes._subplots.AxesSubplot at 0x1dd8116c788>"
      ]
     },
     "execution_count": 177,
     "metadata": {},
     "output_type": "execute_result"
    },
    {
     "data": {
      "image/png": "[encoded data removed]",
      "text/plain": [
       "<Figure size 432x288 with 1 Axes>"
      ]
     },
     "metadata": {
      "needs_background": "light"
     },
     "output_type": "display_data"
    }
   ],
   "source": [
    "# plot the averages\n",
    "sb.barplot(data=df_weekday_means, x='weekday', y='avg_duration')"
   ]
  },
  {
   "cell_type": "markdown",
   "metadata": {},
   "source": [
    "Yes, ride durations are longer during weekends even though less people ride bikes on weekends"
   ]
  },
  {
   "cell_type": "markdown",
   "metadata": {},
   "source": [
    "### Multivariate analyses"
   ]
  },
  {
   "cell_type": "markdown",
   "metadata": {},
   "source": [
    "Let's see the difference between ride duration across user types for each day of the week"
   ]
  },
  {
   "cell_type": "code",
   "execution_count": 178,
   "metadata": {
    "scrolled": true
   },
   "outputs": [
    {
     "name": "stderr",
     "output_type": "stream",
     "text": [
      "C:\\Users\\zech011\\Anaconda3\\lib\\site-packages\\seaborn\\axisgrid.py:728: UserWarning: Using the boxplot function without specifying `order` is likely to produce an incorrect plot.\n",
      "  warnings.warn(warning)\n"
     ]
    },
    {
     "data": {
      "image/png": "[encoded data removed]",
      "text/plain": [
       "<Figure size 864x432 with 7 Axes>"
      ]
     },
     "metadata": {
      "needs_background": "light"
     },
     "output_type": "display_data"
    }
   ],
   "source": [
    "# plot boxplots of user_type vs duration for each day of the week\n",
    "g = sb.FacetGrid(data = df, col = 'dayofweek', col_wrap=4)\n",
    "g.map(sb.boxplot, 'user_type', 'duration_min')\n",
    "plt.ylim(0,30);\n"
   ]
  },
  {
   "cell_type": "markdown",
   "metadata": {},
   "source": [
    "During the week there does not seem to be so much of a difference between both user types, only on weekends."
   ]
  },
  {
   "cell_type": "markdown",
   "metadata": {},
   "source": [
    "Let's take a look at average bike durations now"
   ]
  },
  {
   "cell_type": "code",
   "execution_count": 179,
   "metadata": {},
   "outputs": [
    {
     "data": {
      "text/html": [
       "<div>\n",
       "<style scoped>\n",
       "    .dataframe tbody tr th:only-of-type {\n",
       "        vertical-align: middle;\n",
       "    }\n",
       "\n",
       "    .dataframe tbody tr th {\n",
       "        vertical-align: top;\n",
       "    }\n",
       "\n",
       "    .dataframe thead th {\n",
       "        text-align: right;\n",
       "    }\n",
       "</style>\n",
       "<table border=\"1\" class=\"dataframe\">\n",
       "  <thead>\n",
       "    <tr style=\"text-align: right;\">\n",
       "      <th>user_type</th>\n",
       "      <th>Customer</th>\n",
       "      <th>Subscriber</th>\n",
       "    </tr>\n",
       "    <tr>\n",
       "      <th>dayofweek</th>\n",
       "      <th></th>\n",
       "      <th></th>\n",
       "    </tr>\n",
       "  </thead>\n",
       "  <tbody>\n",
       "    <tr>\n",
       "      <th>Monday</th>\n",
       "      <td>14.199789</td>\n",
       "      <td>11.795601</td>\n",
       "    </tr>\n",
       "    <tr>\n",
       "      <th>Tuesday</th>\n",
       "      <td>12.838736</td>\n",
       "      <td>11.227875</td>\n",
       "    </tr>\n",
       "    <tr>\n",
       "      <th>Wednesday</th>\n",
       "      <td>13.319249</td>\n",
       "      <td>11.642157</td>\n",
       "    </tr>\n",
       "    <tr>\n",
       "      <th>Thursday</th>\n",
       "      <td>12.866360</td>\n",
       "      <td>12.024341</td>\n",
       "    </tr>\n",
       "    <tr>\n",
       "      <th>Friday</th>\n",
       "      <td>13.671883</td>\n",
       "      <td>12.142502</td>\n",
       "    </tr>\n",
       "    <tr>\n",
       "      <th>Saturday</th>\n",
       "      <td>19.057124</td>\n",
       "      <td>13.387186</td>\n",
       "    </tr>\n",
       "    <tr>\n",
       "      <th>Sunday</th>\n",
       "      <td>17.939332</td>\n",
       "      <td>13.099487</td>\n",
       "    </tr>\n",
       "  </tbody>\n",
       "</table>\n",
       "</div>"
      ],
      "text/plain": [
       "user_type   Customer  Subscriber\n",
       "dayofweek                       \n",
       "Monday     14.199789   11.795601\n",
       "Tuesday    12.838736   11.227875\n",
       "Wednesday  13.319249   11.642157\n",
       "Thursday   12.866360   12.024341\n",
       "Friday     13.671883   12.142502\n",
       "Saturday   19.057124   13.387186\n",
       "Sunday     17.939332   13.099487"
      ]
     },
     "execution_count": 179,
     "metadata": {},
     "output_type": "execute_result"
    }
   ],
   "source": [
    "# get dataframe with average ride duration for dayofweek vs. user_type\n",
    "df_means = df.groupby(['user_type', 'dayofweek'])['duration_min'].mean()\n",
    "df_means = df_means.unstack(level=0)\n",
    "df_means"
   ]
  },
  {
   "cell_type": "code",
   "execution_count": 180,
   "metadata": {},
   "outputs": [
    {
     "data": {
      "image/png": "[encoded data removed]",
      "text/plain": [
       "<Figure size 432x288 with 2 Axes>"
      ]
     },
     "metadata": {
      "needs_background": "light"
     },
     "output_type": "display_data"
    }
   ],
   "source": [
    "#plot heatmap\n",
    "sb.heatmap(df_means, annot = True, fmt = '.3f', \n",
    "           cbar_kws = {'label':'Average duration ride (min)'}, cmap = 'viridis_r');"
   ]
  },
  {
   "cell_type": "markdown",
   "metadata": {},
   "source": [
    "'Customers' appear to ride longer than 'Subscribers', even though there are more Subsribers than Customers. Also, everyone rides longer on weekends."
   ]
  },
  {
   "cell_type": "markdown",
   "metadata": {},
   "source": [
    "Now let's aggregate weekdays and take a closer look at count of rides for these"
   ]
  },
  {
   "cell_type": "code",
   "execution_count": 202,
   "metadata": {},
   "outputs": [
    {
     "data": {
      "image/png": "[encoded data removed]",
      "text/plain": [
       "<Figure size 864x288 with 2 Axes>"
      ]
     },
     "metadata": {
      "needs_background": "light"
     },
     "output_type": "display_data"
    }
   ],
   "source": [
    "# plot count of rides according to customer and weekday/weekend\n",
    "g = sb.FacetGrid(data = df, col = 'weekday', size = 4, col_wrap=3)\n",
    "g.map(sb.countplot, 'user_type')\n",
    "\n",
    "axes = g.axes.flatten()\n",
    "axes[0].set_title(\"Weekend\")\n",
    "axes[1].set_title(\"Weekdays\")\n",
    "\n",
    "axes = g.axes.flatten()\n",
    "axes[0].set_ylabel(\"Number of rides\")\n",
    "for ax in axes:\n",
    "    ax.set_xlabel(\"User types\");\n"
   ]
  },
  {
   "cell_type": "markdown",
   "metadata": {},
   "source": [
    "Since there are more users of the Customer type on Weekends, and in Weekends everyone tends to ride longer, that is probably why Customers ride longer on Weekends."
   ]
  },
  {
   "cell_type": "markdown",
   "metadata": {},
   "source": [
    "Finally let's see if there is a major difference in usage patterns across hours of the day"
   ]
  },
  {
   "cell_type": "code",
   "execution_count": 194,
   "metadata": {},
   "outputs": [
    {
     "data": {
      "image/png": "[encoded data removed]",
      "text/plain": [
       "<Figure size 720x720 with 4 Axes>"
      ]
     },
     "metadata": {
      "needs_background": "light"
     },
     "output_type": "display_data"
    }
   ],
   "source": [
    "\n",
    "# plot bar charts of usage count according to hour of the day\n",
    "# differentiate between customers and subscribers\n",
    "plt.figure(figsize = [10, 10])\n",
    "\n",
    "# create dataframes\n",
    "df_weekdays_customer = df[(df.weekday == True) & (df.user_type == 'Customer')]\n",
    "df_weekends_customer = df[(df.weekday == False) & (df.user_type == 'Customer')]\n",
    "\n",
    "\n",
    "df_weekdays_subscriber = df[(df.weekday == True) & (df.user_type == 'Subscriber')]\n",
    "df_weekends_subscriber = df[(df.weekday == False) & (df.user_type == 'Subscriber')]\n",
    "\n",
    "# get dataframes for customers only and plot it\n",
    "plt.subplot(2,2,1)\n",
    "base_color = sb.color_palette()[0]\n",
    "sb.countplot(data=df_weekdays_customer, x='start_hour', color=base_color);\n",
    "plt.ylim(0, 16000);\n",
    "\n",
    "plt.subplot(2,2,2)\n",
    "base_color = sb.color_palette()[0]\n",
    "sb.countplot(data=df_weekends_customer, x='start_hour', color=base_color)\n",
    "plt.ylim(0, 16000);\n",
    "\n",
    "\n",
    "# get dataframes for subscribers only and plot it\n",
    "plt.subplot(2,2,3)\n",
    "base_color = sb.color_palette()[0]\n",
    "sb.countplot(data=df_weekdays_subscriber, x='start_hour', color=base_color)\n",
    "plt.ylim(0, 16000);\n",
    "\n",
    "plt.subplot(2,2,4)\n",
    "base_color = sb.color_palette()[0]\n",
    "sb.countplot(data=df_weekends_subscriber, x='start_hour', color=base_color)\n",
    "plt.ylim(0, 16000);"
   ]
  },
  {
   "cell_type": "markdown",
   "metadata": {},
   "source": [
    "There is not much difference in usage patterns across both groups"
   ]
  },
  {
   "cell_type": "markdown",
   "metadata": {},
   "source": []
  }
 ],
 "metadata": {
  "kernelspec": {
   "display_name": "Python 3",
   "language": "python",
   "name": "python3"
  },
  "language_info": {
   "codemirror_mode": {
    "name": "ipython",
    "version": 3
   },
   "file_extension": ".py",
   "mimetype": "text/x-python",
   "name": "python",
   "nbconvert_exporter": "python",
   "pygments_lexer": "ipython3",
   "version": "3.7.6"
  }
 },
 "nbformat": 4,
 "nbformat_minor": 4
}
